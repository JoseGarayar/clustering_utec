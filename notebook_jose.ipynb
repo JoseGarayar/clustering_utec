{
 "cells": [
  {
   "cell_type": "code",
   "execution_count": 1,
   "metadata": {},
   "outputs": [],
   "source": [
    "import pandas as pd\n",
    "import numpy as np\n",
    "import matplotlib.pyplot as plt\n",
    "import seaborn as sns\n",
    "from sklearn.decomposition import PCA\n",
    "from sklearn.preprocessing import MinMaxScaler, StandardScaler\n",
    "from sklearn.cluster import AgglomerativeClustering, DBSCAN\n",
    "from scipy.cluster.hierarchy import dendrogram\n",
    "from sklearn.metrics import recall_score, precision_score, f1_score"
   ]
  },
  {
   "cell_type": "code",
   "execution_count": 2,
   "metadata": {},
   "outputs": [],
   "source": [
    "# Clase contains which type of tissue is each\n",
    "X = pd.read_csv('datasets/dataset_tissue.txt', index_col = 0).T\n",
    "y = pd.read_csv('datasets/clase.txt', index_col = 0)"
   ]
  },
  {
   "cell_type": "code",
   "execution_count": 3,
   "metadata": {},
   "outputs": [],
   "source": [
    "X_sc = MinMaxScaler().fit_transform(X)"
   ]
  },
  {
   "cell_type": "code",
   "execution_count": 4,
   "metadata": {},
   "outputs": [],
   "source": [
    "# declaring and pca instance\n",
    "pca = PCA(n_components = 60, random_state = 23)\n",
    "\n",
    "# fitting pipeline\n",
    "X_pca = pca.fit_transform(X_sc)"
   ]
  },
  {
   "cell_type": "code",
   "execution_count": 5,
   "metadata": {},
   "outputs": [
    {
     "data": {
      "text/plain": [
       "array([[ -5.42329124, -12.2683582 ,   9.00111828, ...,   1.14077385,\n",
       "          0.17201587,   2.48216327],\n",
       "       [ -8.73275835, -12.59538796,   6.3317751 , ...,  -0.03229582,\n",
       "         -0.91982159,  -0.86133693],\n",
       "       [ -9.24502852,  -0.97764565,   8.71379403, ...,  -0.60658221,\n",
       "         -0.67590603,  -0.4824903 ],\n",
       "       ...,\n",
       "       [-13.10002872,  -6.4571055 ,   2.56779968, ...,  -0.4417286 ,\n",
       "         -0.29748162,  -0.41769577],\n",
       "       [-14.68833824,   0.01919342,   1.31596615, ...,   0.2277238 ,\n",
       "          0.19048803,   0.12284142],\n",
       "       [-16.67453082,   0.2506692 ,   1.01034996, ...,   1.46861863,\n",
       "         -0.97375503,   1.09870759]])"
      ]
     },
     "execution_count": 5,
     "metadata": {},
     "output_type": "execute_result"
    }
   ],
   "source": [
    "X_pca"
   ]
  },
  {
   "cell_type": "code",
   "execution_count": 28,
   "metadata": {},
   "outputs": [
    {
     "name": "stdout",
     "output_type": "stream",
     "text": [
      "(0.354613029095344, 17.024048096192384, 2)\n"
     ]
    }
   ],
   "source": [
    "from sklearn.metrics import silhouette_score\n",
    "\n",
    "list_eps = np.linspace(15, 20, 500)\n",
    "list_min_samples = [2]\n",
    "list_silhouette_avg = []\n",
    "for eps in list_eps:\n",
    "    for min_samples in list_min_samples:\n",
    "        dbscan = DBSCAN(eps=eps, min_samples=int(min_samples))\n",
    "        dbscan_labels = dbscan.fit_predict(X_pca)\n",
    "        if len(set(dbscan_labels)) > 1:\n",
    "            silhouette_avg = silhouette_score(X_pca, dbscan_labels, random_state=23)\n",
    "            list_silhouette_avg.append((silhouette_avg,eps,min_samples))\n",
    "            # print(f\"Silhouette Score: {silhouette_avg}\")\n",
    "            # print(\"EPS:\", eps)\n",
    "            # print(\"min_samples:\", min_samples)\n",
    "            # print(np.unique(dbscan_labels))\n",
    "\n",
    "print(max(list_silhouette_avg, key = lambda x: x[0]))"
   ]
  },
  {
   "cell_type": "code",
   "execution_count": 17,
   "metadata": {},
   "outputs": [
    {
     "data": {
      "text/plain": [
       "0.30768958873033714"
      ]
     },
     "execution_count": 17,
     "metadata": {},
     "output_type": "execute_result"
    }
   ],
   "source": [
    "dbscan = DBSCAN(eps=19.6, min_samples=5)\n",
    "dbscan_labels = dbscan.fit_predict(X_pca)\n",
    "silhouette_avg = silhouette_score(X_pca, dbscan_labels, random_state=23)\n",
    "silhouette_avg"
   ]
  },
  {
   "cell_type": "code",
   "execution_count": 26,
   "metadata": {},
   "outputs": [
    {
     "data": {
      "text/plain": [
       "0.35661316581887015"
      ]
     },
     "execution_count": 26,
     "metadata": {},
     "output_type": "execute_result"
    }
   ],
   "source": [
    "dbscan = DBSCAN(eps=17.22, min_samples=2)\n",
    "dbscan_labels = dbscan.fit_predict(X_pca)\n",
    "silhouette_avg = silhouette_score(X_pca, dbscan_labels, random_state=23)\n",
    "silhouette_avg"
   ]
  },
  {
   "cell_type": "code",
   "execution_count": 7,
   "metadata": {},
   "outputs": [
    {
     "data": {
      "text/plain": [
       "array([-1, -1,  0, -1, -1,  0, -1,  0, -1,  0, -1,  0, -1,  0, -1,  0,  1,\n",
       "        1, -1,  1, -1, -1,  1,  1,  1, -1,  1,  1,  1, -1,  1,  1,  1,  1,\n",
       "        1,  1,  1,  1,  1,  1,  1,  1,  1,  1,  1,  1,  2,  2,  2,  2,  2,\n",
       "        2,  2,  2,  2,  2,  2,  2,  2,  2,  2,  2,  2,  2,  2,  2,  2,  2,\n",
       "        2,  2,  2,  2,  2, -1, -1,  3, -1,  3,  3,  3, -1, -1,  3, -1, -1,\n",
       "       -1, -1, -1, -1, -1, -1, -1, -1, -1, -1, -1, -1, -1, -1, -1, -1, -1,\n",
       "       -1, -1, -1, -1, -1, -1, -1, -1, -1, -1, -1, -1, -1, -1, -1, -1, -1,\n",
       "       -1,  4,  4, -1, -1, -1, -1,  4,  4,  4, -1, -1, -1,  4, -1, -1, -1,\n",
       "       -1, -1, -1, -1, -1, -1, -1, -1, -1, -1, -1, -1,  5, -1,  5,  5,  5,\n",
       "       -1, -1,  5,  6,  6,  6,  6,  6,  6,  6, -1, -1, -1, -1, -1, -1, -1,\n",
       "       -1, -1, -1, -1, -1, -1, -1, -1, -1, -1,  2, -1,  2, -1, -1, -1, -1,\n",
       "       -1, -1])"
      ]
     },
     "execution_count": 7,
     "metadata": {},
     "output_type": "execute_result"
    }
   ],
   "source": [
    "dbscan = DBSCAN(eps=14.2, min_samples=5)\n",
    "dbscan_labels = dbscan.fit_predict(X_pca)\n",
    "dbscan_labels"
   ]
  },
  {
   "cell_type": "code",
   "execution_count": 11,
   "metadata": {},
   "outputs": [
    {
     "name": "stdout",
     "output_type": "stream",
     "text": [
      "Silhouette Score: 0.12355715953656954\n"
     ]
    }
   ],
   "source": [
    "from sklearn.metrics import silhouette_score\n",
    "\n",
    "if len(set(dbscan_labels)) > 1:\n",
    "    silhouette_avg = silhouette_score(X_pca, dbscan_labels, random_state=23)\n",
    "    print(f\"Silhouette Score: {silhouette_avg}\")\n"
   ]
  }
 ],
 "metadata": {
  "kernelspec": {
   "display_name": ".venv",
   "language": "python",
   "name": "python3"
  },
  "language_info": {
   "codemirror_mode": {
    "name": "ipython",
    "version": 3
   },
   "file_extension": ".py",
   "mimetype": "text/x-python",
   "name": "python",
   "nbconvert_exporter": "python",
   "pygments_lexer": "ipython3",
   "version": "3.8.10"
  },
  "orig_nbformat": 4
 },
 "nbformat": 4,
 "nbformat_minor": 2
}
